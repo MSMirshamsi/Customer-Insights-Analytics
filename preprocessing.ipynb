{
 "cells": [
  {
   "cell_type": "markdown",
   "metadata": {},
   "source": [
    "# Phase 1: Data Preprocessing for Sales Analysis\n",
    "\n",
    "This notebook initiates the final project by performing essential preprocessing steps on a sales dataset (`sales.xlsx`). The goal is to clean and refine the data for subsequent analysis, ensuring quality and consistency. Additionally, analytical questions about order cancellations and customer behavior are addressed.\n",
    "\n",
    "## Objectives\n",
    "- Remove incomplete or invalid records.\n",
    "- Eliminate duplicates and canceled orders.\n",
    "- Compute cancellation statistics and identify top-canceling customers.\n",
    "- Prepare a clean dataset (`preprocessed_sales.csv`) for future phases."
   ]
  },
  {
   "cell_type": "markdown",
   "metadata": {},
   "source": [
    "## Step 1: Import Libraries\n",
    "\n",
    "Load required Python libraries for data manipulation and logging."
   ]
  },
  {
   "cell_type": "code",
   "execution_count": 1,
   "metadata": {},
   "outputs": [],
   "source": [
    "import pandas as pd\n",
    "import numpy as np\n",
    "import logging\n",
    "\n",
    "# Configure logging\n",
    "logging.basicConfig(level=logging.INFO, format='%(asctime)s - %(levelname)s - %(message)s')\n",
    "logger = logging.getLogger(__name__)"
   ]
  },
  {
   "cell_type": "markdown",
   "metadata": {},
   "source": [
    "## Step 2: Load Dataset\n",
    "\n",
    "Read the `sales.xlsx` file into a DataFrame. The dataset contains sales transactions with the following columns:\n",
    "\n",
    "| Column           | Description                                      |\n",
    "|------------------|--------------------------------------------------|\n",
    "| `InvoiceNumber`  | Unique 6-digit invoice ID; 'C' prefix indicates cancellation |\n",
    "| `ProductCode`    | Unique 5-digit product ID                        |\n",
    "| `ProductName`    | Product description                              |\n",
    "| `Quantity`       | Number of units ordered                          |\n",
    "| `InvoiceDate`    | Date and time of invoice creation                |\n",
    "| `UnitPrice`      | Price per unit of product                        |\n",
    "| `CustomerId`     | Unique 5-digit customer ID                       |\n",
    "| `Country`        | Customer's country of residence                  |"
   ]
  },
  {
   "cell_type": "code",
   "execution_count": 2,
   "metadata": {},
   "outputs": [
    {
     "name": "stderr",
     "output_type": "stream",
     "text": [
      "2025-04-10 11:55:48,440 - INFO - Dataset loaded successfully. Shape: (525461, 8)\n"
     ]
    },
    {
     "data": {
      "text/html": [
       "<div>\n",
       "<style scoped>\n",
       "    .dataframe tbody tr th:only-of-type {\n",
       "        vertical-align: middle;\n",
       "    }\n",
       "\n",
       "    .dataframe tbody tr th {\n",
       "        vertical-align: top;\n",
       "    }\n",
       "\n",
       "    .dataframe thead th {\n",
       "        text-align: right;\n",
       "    }\n",
       "</style>\n",
       "<table border=\"1\" class=\"dataframe\">\n",
       "  <thead>\n",
       "    <tr style=\"text-align: right;\">\n",
       "      <th></th>\n",
       "      <th>InvoiceNumber</th>\n",
       "      <th>ProductCode</th>\n",
       "      <th>ProductName</th>\n",
       "      <th>Quantity</th>\n",
       "      <th>InvoiceDate</th>\n",
       "      <th>UnitPrice</th>\n",
       "      <th>CustomerId</th>\n",
       "      <th>Country</th>\n",
       "    </tr>\n",
       "  </thead>\n",
       "  <tbody>\n",
       "    <tr>\n",
       "      <th>0</th>\n",
       "      <td>489434</td>\n",
       "      <td>85048</td>\n",
       "      <td>15CM CHRISTMAS GLASS BALL 20 LIGHTS</td>\n",
       "      <td>12</td>\n",
       "      <td>2009-12-01 07:45:00</td>\n",
       "      <td>6.95</td>\n",
       "      <td>13085.0</td>\n",
       "      <td>United Kingdom</td>\n",
       "    </tr>\n",
       "    <tr>\n",
       "      <th>1</th>\n",
       "      <td>489434</td>\n",
       "      <td>79323P</td>\n",
       "      <td>PINK CHERRY LIGHTS</td>\n",
       "      <td>12</td>\n",
       "      <td>2009-12-01 07:45:00</td>\n",
       "      <td>6.75</td>\n",
       "      <td>13085.0</td>\n",
       "      <td>United Kingdom</td>\n",
       "    </tr>\n",
       "    <tr>\n",
       "      <th>2</th>\n",
       "      <td>489434</td>\n",
       "      <td>79323W</td>\n",
       "      <td>WHITE CHERRY LIGHTS</td>\n",
       "      <td>12</td>\n",
       "      <td>2009-12-01 07:45:00</td>\n",
       "      <td>6.75</td>\n",
       "      <td>13085.0</td>\n",
       "      <td>United Kingdom</td>\n",
       "    </tr>\n",
       "    <tr>\n",
       "      <th>3</th>\n",
       "      <td>489434</td>\n",
       "      <td>22041</td>\n",
       "      <td>RECORD FRAME 7\" SINGLE SIZE</td>\n",
       "      <td>48</td>\n",
       "      <td>2009-12-01 07:45:00</td>\n",
       "      <td>2.10</td>\n",
       "      <td>13085.0</td>\n",
       "      <td>United Kingdom</td>\n",
       "    </tr>\n",
       "    <tr>\n",
       "      <th>4</th>\n",
       "      <td>489434</td>\n",
       "      <td>21232</td>\n",
       "      <td>STRAWBERRY CERAMIC TRINKET BOX</td>\n",
       "      <td>24</td>\n",
       "      <td>2009-12-01 07:45:00</td>\n",
       "      <td>1.25</td>\n",
       "      <td>13085.0</td>\n",
       "      <td>United Kingdom</td>\n",
       "    </tr>\n",
       "  </tbody>\n",
       "</table>\n",
       "</div>"
      ],
      "text/plain": [
       "  InvoiceNumber ProductCode                          ProductName  Quantity  \\\n",
       "0        489434       85048  15CM CHRISTMAS GLASS BALL 20 LIGHTS        12   \n",
       "1        489434      79323P                   PINK CHERRY LIGHTS        12   \n",
       "2        489434      79323W                  WHITE CHERRY LIGHTS        12   \n",
       "3        489434       22041         RECORD FRAME 7\" SINGLE SIZE         48   \n",
       "4        489434       21232       STRAWBERRY CERAMIC TRINKET BOX        24   \n",
       "\n",
       "          InvoiceDate  UnitPrice  CustomerId         Country  \n",
       "0 2009-12-01 07:45:00       6.95     13085.0  United Kingdom  \n",
       "1 2009-12-01 07:45:00       6.75     13085.0  United Kingdom  \n",
       "2 2009-12-01 07:45:00       6.75     13085.0  United Kingdom  \n",
       "3 2009-12-01 07:45:00       2.10     13085.0  United Kingdom  \n",
       "4 2009-12-01 07:45:00       1.25     13085.0  United Kingdom  "
      ]
     },
     "execution_count": 2,
     "metadata": {},
     "output_type": "execute_result"
    }
   ],
   "source": [
    "# Load dataset with error handling\n",
    "try:\n",
    "    df = pd.read_excel('sales.xlsx')\n",
    "    logger.info(f\"Dataset loaded successfully. Shape: {df.shape}\")\n",
    "except FileNotFoundError:\n",
    "    logger.error(\"File 'sales.xlsx' not found.\")\n",
    "    raise\n",
    "except Exception as e:\n",
    "    logger.error(f\"Error loading dataset: {e}\")\n",
    "    raise\n",
    "\n",
    "df.head()"
   ]
  },
  {
   "cell_type": "markdown",
   "metadata": {},
   "source": [
    "## Step 3: Remove Missing Customer IDs\n",
    "\n",
    "Filter out rows with missing `CustomerId` values to ensure data integrity."
   ]
  },
  {
   "cell_type": "code",
   "execution_count": 3,
   "metadata": {},
   "outputs": [
    {
     "name": "stderr",
     "output_type": "stream",
     "text": [
      "2025-04-10 11:55:56,860 - INFO - Rows with missing CustomerId removed. New shape: (417534, 8)\n"
     ]
    },
    {
     "data": {
      "text/html": [
       "<div>\n",
       "<style scoped>\n",
       "    .dataframe tbody tr th:only-of-type {\n",
       "        vertical-align: middle;\n",
       "    }\n",
       "\n",
       "    .dataframe tbody tr th {\n",
       "        vertical-align: top;\n",
       "    }\n",
       "\n",
       "    .dataframe thead th {\n",
       "        text-align: right;\n",
       "    }\n",
       "</style>\n",
       "<table border=\"1\" class=\"dataframe\">\n",
       "  <thead>\n",
       "    <tr style=\"text-align: right;\">\n",
       "      <th></th>\n",
       "      <th>InvoiceNumber</th>\n",
       "      <th>ProductCode</th>\n",
       "      <th>ProductName</th>\n",
       "      <th>Quantity</th>\n",
       "      <th>InvoiceDate</th>\n",
       "      <th>UnitPrice</th>\n",
       "      <th>CustomerId</th>\n",
       "      <th>Country</th>\n",
       "    </tr>\n",
       "  </thead>\n",
       "  <tbody>\n",
       "    <tr>\n",
       "      <th>0</th>\n",
       "      <td>489434</td>\n",
       "      <td>85048</td>\n",
       "      <td>15CM CHRISTMAS GLASS BALL 20 LIGHTS</td>\n",
       "      <td>12</td>\n",
       "      <td>2009-12-01 07:45:00</td>\n",
       "      <td>6.95</td>\n",
       "      <td>13085.0</td>\n",
       "      <td>United Kingdom</td>\n",
       "    </tr>\n",
       "    <tr>\n",
       "      <th>1</th>\n",
       "      <td>489434</td>\n",
       "      <td>79323P</td>\n",
       "      <td>PINK CHERRY LIGHTS</td>\n",
       "      <td>12</td>\n",
       "      <td>2009-12-01 07:45:00</td>\n",
       "      <td>6.75</td>\n",
       "      <td>13085.0</td>\n",
       "      <td>United Kingdom</td>\n",
       "    </tr>\n",
       "    <tr>\n",
       "      <th>2</th>\n",
       "      <td>489434</td>\n",
       "      <td>79323W</td>\n",
       "      <td>WHITE CHERRY LIGHTS</td>\n",
       "      <td>12</td>\n",
       "      <td>2009-12-01 07:45:00</td>\n",
       "      <td>6.75</td>\n",
       "      <td>13085.0</td>\n",
       "      <td>United Kingdom</td>\n",
       "    </tr>\n",
       "    <tr>\n",
       "      <th>3</th>\n",
       "      <td>489434</td>\n",
       "      <td>22041</td>\n",
       "      <td>RECORD FRAME 7\" SINGLE SIZE</td>\n",
       "      <td>48</td>\n",
       "      <td>2009-12-01 07:45:00</td>\n",
       "      <td>2.10</td>\n",
       "      <td>13085.0</td>\n",
       "      <td>United Kingdom</td>\n",
       "    </tr>\n",
       "    <tr>\n",
       "      <th>4</th>\n",
       "      <td>489434</td>\n",
       "      <td>21232</td>\n",
       "      <td>STRAWBERRY CERAMIC TRINKET BOX</td>\n",
       "      <td>24</td>\n",
       "      <td>2009-12-01 07:45:00</td>\n",
       "      <td>1.25</td>\n",
       "      <td>13085.0</td>\n",
       "      <td>United Kingdom</td>\n",
       "    </tr>\n",
       "  </tbody>\n",
       "</table>\n",
       "</div>"
      ],
      "text/plain": [
       "  InvoiceNumber ProductCode                          ProductName  Quantity  \\\n",
       "0        489434       85048  15CM CHRISTMAS GLASS BALL 20 LIGHTS        12   \n",
       "1        489434      79323P                   PINK CHERRY LIGHTS        12   \n",
       "2        489434      79323W                  WHITE CHERRY LIGHTS        12   \n",
       "3        489434       22041         RECORD FRAME 7\" SINGLE SIZE         48   \n",
       "4        489434       21232       STRAWBERRY CERAMIC TRINKET BOX        24   \n",
       "\n",
       "          InvoiceDate  UnitPrice  CustomerId         Country  \n",
       "0 2009-12-01 07:45:00       6.95     13085.0  United Kingdom  \n",
       "1 2009-12-01 07:45:00       6.75     13085.0  United Kingdom  \n",
       "2 2009-12-01 07:45:00       6.75     13085.0  United Kingdom  \n",
       "3 2009-12-01 07:45:00       2.10     13085.0  United Kingdom  \n",
       "4 2009-12-01 07:45:00       1.25     13085.0  United Kingdom  "
      ]
     },
     "execution_count": 3,
     "metadata": {},
     "output_type": "execute_result"
    }
   ],
   "source": [
    "df_no_missing_CustomerId = df.copy()\n",
    "df_no_missing_CustomerId = df_no_missing_CustomerId.dropna(subset=['CustomerId'])\n",
    "logger.info(f\"Rows with missing CustomerId removed. New shape: {df_no_missing_CustomerId.shape}\")\n",
    "df_no_missing_CustomerId.head()"
   ]
  },
  {
   "cell_type": "markdown",
   "metadata": {},
   "source": [
    "## Step 4: Remove Duplicate Rows\n",
    "\n",
    "Eliminate fully duplicated rows to avoid redundant data."
   ]
  },
  {
   "cell_type": "code",
   "execution_count": 4,
   "metadata": {},
   "outputs": [
    {
     "name": "stderr",
     "output_type": "stream",
     "text": [
      "2025-04-10 11:56:05,180 - INFO - Duplicate rows removed. New shape: (410763, 8)\n"
     ]
    },
    {
     "data": {
      "text/html": [
       "<div>\n",
       "<style scoped>\n",
       "    .dataframe tbody tr th:only-of-type {\n",
       "        vertical-align: middle;\n",
       "    }\n",
       "\n",
       "    .dataframe tbody tr th {\n",
       "        vertical-align: top;\n",
       "    }\n",
       "\n",
       "    .dataframe thead th {\n",
       "        text-align: right;\n",
       "    }\n",
       "</style>\n",
       "<table border=\"1\" class=\"dataframe\">\n",
       "  <thead>\n",
       "    <tr style=\"text-align: right;\">\n",
       "      <th></th>\n",
       "      <th>InvoiceNumber</th>\n",
       "      <th>ProductCode</th>\n",
       "      <th>ProductName</th>\n",
       "      <th>Quantity</th>\n",
       "      <th>InvoiceDate</th>\n",
       "      <th>UnitPrice</th>\n",
       "      <th>CustomerId</th>\n",
       "      <th>Country</th>\n",
       "    </tr>\n",
       "  </thead>\n",
       "  <tbody>\n",
       "    <tr>\n",
       "      <th>0</th>\n",
       "      <td>489434</td>\n",
       "      <td>85048</td>\n",
       "      <td>15CM CHRISTMAS GLASS BALL 20 LIGHTS</td>\n",
       "      <td>12</td>\n",
       "      <td>2009-12-01 07:45:00</td>\n",
       "      <td>6.95</td>\n",
       "      <td>13085.0</td>\n",
       "      <td>United Kingdom</td>\n",
       "    </tr>\n",
       "    <tr>\n",
       "      <th>1</th>\n",
       "      <td>489434</td>\n",
       "      <td>79323P</td>\n",
       "      <td>PINK CHERRY LIGHTS</td>\n",
       "      <td>12</td>\n",
       "      <td>2009-12-01 07:45:00</td>\n",
       "      <td>6.75</td>\n",
       "      <td>13085.0</td>\n",
       "      <td>United Kingdom</td>\n",
       "    </tr>\n",
       "    <tr>\n",
       "      <th>2</th>\n",
       "      <td>489434</td>\n",
       "      <td>79323W</td>\n",
       "      <td>WHITE CHERRY LIGHTS</td>\n",
       "      <td>12</td>\n",
       "      <td>2009-12-01 07:45:00</td>\n",
       "      <td>6.75</td>\n",
       "      <td>13085.0</td>\n",
       "      <td>United Kingdom</td>\n",
       "    </tr>\n",
       "    <tr>\n",
       "      <th>3</th>\n",
       "      <td>489434</td>\n",
       "      <td>22041</td>\n",
       "      <td>RECORD FRAME 7\" SINGLE SIZE</td>\n",
       "      <td>48</td>\n",
       "      <td>2009-12-01 07:45:00</td>\n",
       "      <td>2.10</td>\n",
       "      <td>13085.0</td>\n",
       "      <td>United Kingdom</td>\n",
       "    </tr>\n",
       "    <tr>\n",
       "      <th>4</th>\n",
       "      <td>489434</td>\n",
       "      <td>21232</td>\n",
       "      <td>STRAWBERRY CERAMIC TRINKET BOX</td>\n",
       "      <td>24</td>\n",
       "      <td>2009-12-01 07:45:00</td>\n",
       "      <td>1.25</td>\n",
       "      <td>13085.0</td>\n",
       "      <td>United Kingdom</td>\n",
       "    </tr>\n",
       "  </tbody>\n",
       "</table>\n",
       "</div>"
      ],
      "text/plain": [
       "  InvoiceNumber ProductCode                          ProductName  Quantity  \\\n",
       "0        489434       85048  15CM CHRISTMAS GLASS BALL 20 LIGHTS        12   \n",
       "1        489434      79323P                   PINK CHERRY LIGHTS        12   \n",
       "2        489434      79323W                  WHITE CHERRY LIGHTS        12   \n",
       "3        489434       22041         RECORD FRAME 7\" SINGLE SIZE         48   \n",
       "4        489434       21232       STRAWBERRY CERAMIC TRINKET BOX        24   \n",
       "\n",
       "          InvoiceDate  UnitPrice  CustomerId         Country  \n",
       "0 2009-12-01 07:45:00       6.95     13085.0  United Kingdom  \n",
       "1 2009-12-01 07:45:00       6.75     13085.0  United Kingdom  \n",
       "2 2009-12-01 07:45:00       6.75     13085.0  United Kingdom  \n",
       "3 2009-12-01 07:45:00       2.10     13085.0  United Kingdom  \n",
       "4 2009-12-01 07:45:00       1.25     13085.0  United Kingdom  "
      ]
     },
     "execution_count": 4,
     "metadata": {},
     "output_type": "execute_result"
    }
   ],
   "source": [
    "df_no_duplicate = df_no_missing_CustomerId.copy()\n",
    "df_no_duplicate = df_no_duplicate.drop_duplicates()\n",
    "logger.info(f\"Duplicate rows removed. New shape: {df_no_duplicate.shape}\")\n",
    "df_no_duplicate.head()"
   ]
  },
  {
   "cell_type": "markdown",
   "metadata": {},
   "source": [
    "## Step 5: Filter Out Invalid Prices\n",
    "\n",
    "Remove rows where `UnitPrice` is zero or negative, retaining only positive values."
   ]
  },
  {
   "cell_type": "code",
   "execution_count": 5,
   "metadata": {},
   "outputs": [
    {
     "name": "stderr",
     "output_type": "stream",
     "text": [
      "2025-04-10 11:56:08,745 - INFO - Rows with invalid prices removed. New shape: (410732, 8)\n"
     ]
    },
    {
     "data": {
      "text/html": [
       "<div>\n",
       "<style scoped>\n",
       "    .dataframe tbody tr th:only-of-type {\n",
       "        vertical-align: middle;\n",
       "    }\n",
       "\n",
       "    .dataframe tbody tr th {\n",
       "        vertical-align: top;\n",
       "    }\n",
       "\n",
       "    .dataframe thead th {\n",
       "        text-align: right;\n",
       "    }\n",
       "</style>\n",
       "<table border=\"1\" class=\"dataframe\">\n",
       "  <thead>\n",
       "    <tr style=\"text-align: right;\">\n",
       "      <th></th>\n",
       "      <th>InvoiceNumber</th>\n",
       "      <th>ProductCode</th>\n",
       "      <th>ProductName</th>\n",
       "      <th>Quantity</th>\n",
       "      <th>InvoiceDate</th>\n",
       "      <th>UnitPrice</th>\n",
       "      <th>CustomerId</th>\n",
       "      <th>Country</th>\n",
       "    </tr>\n",
       "  </thead>\n",
       "  <tbody>\n",
       "    <tr>\n",
       "      <th>0</th>\n",
       "      <td>489434</td>\n",
       "      <td>85048</td>\n",
       "      <td>15CM CHRISTMAS GLASS BALL 20 LIGHTS</td>\n",
       "      <td>12</td>\n",
       "      <td>2009-12-01 07:45:00</td>\n",
       "      <td>6.95</td>\n",
       "      <td>13085.0</td>\n",
       "      <td>United Kingdom</td>\n",
       "    </tr>\n",
       "    <tr>\n",
       "      <th>1</th>\n",
       "      <td>489434</td>\n",
       "      <td>79323P</td>\n",
       "      <td>PINK CHERRY LIGHTS</td>\n",
       "      <td>12</td>\n",
       "      <td>2009-12-01 07:45:00</td>\n",
       "      <td>6.75</td>\n",
       "      <td>13085.0</td>\n",
       "      <td>United Kingdom</td>\n",
       "    </tr>\n",
       "    <tr>\n",
       "      <th>2</th>\n",
       "      <td>489434</td>\n",
       "      <td>79323W</td>\n",
       "      <td>WHITE CHERRY LIGHTS</td>\n",
       "      <td>12</td>\n",
       "      <td>2009-12-01 07:45:00</td>\n",
       "      <td>6.75</td>\n",
       "      <td>13085.0</td>\n",
       "      <td>United Kingdom</td>\n",
       "    </tr>\n",
       "    <tr>\n",
       "      <th>3</th>\n",
       "      <td>489434</td>\n",
       "      <td>22041</td>\n",
       "      <td>RECORD FRAME 7\" SINGLE SIZE</td>\n",
       "      <td>48</td>\n",
       "      <td>2009-12-01 07:45:00</td>\n",
       "      <td>2.10</td>\n",
       "      <td>13085.0</td>\n",
       "      <td>United Kingdom</td>\n",
       "    </tr>\n",
       "    <tr>\n",
       "      <th>4</th>\n",
       "      <td>489434</td>\n",
       "      <td>21232</td>\n",
       "      <td>STRAWBERRY CERAMIC TRINKET BOX</td>\n",
       "      <td>24</td>\n",
       "      <td>2009-12-01 07:45:00</td>\n",
       "      <td>1.25</td>\n",
       "      <td>13085.0</td>\n",
       "      <td>United Kingdom</td>\n",
       "    </tr>\n",
       "  </tbody>\n",
       "</table>\n",
       "</div>"
      ],
      "text/plain": [
       "  InvoiceNumber ProductCode                          ProductName  Quantity  \\\n",
       "0        489434       85048  15CM CHRISTMAS GLASS BALL 20 LIGHTS        12   \n",
       "1        489434      79323P                   PINK CHERRY LIGHTS        12   \n",
       "2        489434      79323W                  WHITE CHERRY LIGHTS        12   \n",
       "3        489434       22041         RECORD FRAME 7\" SINGLE SIZE         48   \n",
       "4        489434       21232       STRAWBERRY CERAMIC TRINKET BOX        24   \n",
       "\n",
       "          InvoiceDate  UnitPrice  CustomerId         Country  \n",
       "0 2009-12-01 07:45:00       6.95     13085.0  United Kingdom  \n",
       "1 2009-12-01 07:45:00       6.75     13085.0  United Kingdom  \n",
       "2 2009-12-01 07:45:00       6.75     13085.0  United Kingdom  \n",
       "3 2009-12-01 07:45:00       2.10     13085.0  United Kingdom  \n",
       "4 2009-12-01 07:45:00       1.25     13085.0  United Kingdom  "
      ]
     },
     "execution_count": 5,
     "metadata": {},
     "output_type": "execute_result"
    }
   ],
   "source": [
    "df_no_missing_price = df_no_duplicate.copy()\n",
    "df_no_missing_price = df_no_missing_price[df_no_missing_price['UnitPrice'] > 0]\n",
    "logger.info(f\"Rows with invalid prices removed. New shape: {df_no_missing_price.shape}\")\n",
    "df_no_missing_price.head()"
   ]
  },
  {
   "cell_type": "markdown",
   "metadata": {},
   "source": [
    "## Step 6: Calculate Percentage of Canceled Orders\n",
    "\n",
    "Compute the percentage of unique invoices that were canceled (starting with 'C') and round the result."
   ]
  },
  {
   "cell_type": "code",
   "execution_count": 6,
   "metadata": {},
   "outputs": [
    {
     "name": "stderr",
     "output_type": "stream",
     "text": [
      "2025-04-10 11:56:12,821 - INFO - Percentage of canceled orders: 19%\n"
     ]
    },
    {
     "name": "stdout",
     "output_type": "stream",
     "text": [
      "Percentage of canceled orders: 19%\n"
     ]
    }
   ],
   "source": [
    "total_invoices = df_no_missing_price['InvoiceNumber'].nunique()\n",
    "canceled_invoices = df_no_missing_price[df_no_missing_price['InvoiceNumber'].str.startswith('C', na=False)]['InvoiceNumber'].nunique()\n",
    "percentage_cancelled_orders = round((canceled_invoices / total_invoices) * 100)\n",
    "logger.info(f\"Percentage of canceled orders: {percentage_cancelled_orders}%\")\n",
    "print(f'Percentage of canceled orders: {percentage_cancelled_orders}%')"
   ]
  },
  {
   "cell_type": "markdown",
   "metadata": {},
   "source": [
    "## Step 7: Identify Top Canceling Customers\n",
    "\n",
    "Find the five customers with the most unique canceled orders, returning their IDs as strings in descending order."
   ]
  },
  {
   "cell_type": "code",
   "execution_count": 7,
   "metadata": {},
   "outputs": [
    {
     "name": "stderr",
     "output_type": "stream",
     "text": [
      "2025-04-10 11:57:28,092 - INFO - Top 5 canceling customers: ['14911', '14527', '15311', '14156', '17841']\n"
     ]
    },
    {
     "name": "stdout",
     "output_type": "stream",
     "text": [
      "Top canceling customers: ['14911', '14527', '15311', '14156', '17841']\n"
     ]
    }
   ],
   "source": [
    "canceled_df = df_no_missing_price[df_no_missing_price['InvoiceNumber'].str.startswith('C', na=False)].copy()\n",
    "top_cancelling_customers = (canceled_df.groupby('CustomerId')['InvoiceNumber']\n",
    "                            .nunique()\n",
    "                            .nlargest(5)\n",
    "                            .index\n",
    "                            .map(lambda x: str(int(x)))\n",
    "                            .tolist())\n",
    "logger.info(f\"Top 5 canceling customers: {top_cancelling_customers}\")\n",
    "print(f'Top canceling customers: {top_cancelling_customers}')"
   ]
  },
  {
   "cell_type": "markdown",
   "metadata": {},
   "source": [
    "## Step 8: Remove Canceled Orders\n",
    "\n",
    "Exclude all rows related to canceled invoices from the dataset."
   ]
  },
  {
   "cell_type": "code",
   "execution_count": 8,
   "metadata": {},
   "outputs": [
    {
     "name": "stderr",
     "output_type": "stream",
     "text": [
      "2025-04-10 11:59:26,283 - INFO - Canceled orders removed. New shape: (400916, 8)\n"
     ]
    },
    {
     "data": {
      "text/html": [
       "<div>\n",
       "<style scoped>\n",
       "    .dataframe tbody tr th:only-of-type {\n",
       "        vertical-align: middle;\n",
       "    }\n",
       "\n",
       "    .dataframe tbody tr th {\n",
       "        vertical-align: top;\n",
       "    }\n",
       "\n",
       "    .dataframe thead th {\n",
       "        text-align: right;\n",
       "    }\n",
       "</style>\n",
       "<table border=\"1\" class=\"dataframe\">\n",
       "  <thead>\n",
       "    <tr style=\"text-align: right;\">\n",
       "      <th></th>\n",
       "      <th>InvoiceNumber</th>\n",
       "      <th>ProductCode</th>\n",
       "      <th>ProductName</th>\n",
       "      <th>Quantity</th>\n",
       "      <th>InvoiceDate</th>\n",
       "      <th>UnitPrice</th>\n",
       "      <th>CustomerId</th>\n",
       "      <th>Country</th>\n",
       "    </tr>\n",
       "  </thead>\n",
       "  <tbody>\n",
       "    <tr>\n",
       "      <th>0</th>\n",
       "      <td>489434</td>\n",
       "      <td>85048</td>\n",
       "      <td>15CM CHRISTMAS GLASS BALL 20 LIGHTS</td>\n",
       "      <td>12</td>\n",
       "      <td>2009-12-01 07:45:00</td>\n",
       "      <td>6.95</td>\n",
       "      <td>13085.0</td>\n",
       "      <td>United Kingdom</td>\n",
       "    </tr>\n",
       "    <tr>\n",
       "      <th>1</th>\n",
       "      <td>489434</td>\n",
       "      <td>79323P</td>\n",
       "      <td>PINK CHERRY LIGHTS</td>\n",
       "      <td>12</td>\n",
       "      <td>2009-12-01 07:45:00</td>\n",
       "      <td>6.75</td>\n",
       "      <td>13085.0</td>\n",
       "      <td>United Kingdom</td>\n",
       "    </tr>\n",
       "    <tr>\n",
       "      <th>2</th>\n",
       "      <td>489434</td>\n",
       "      <td>79323W</td>\n",
       "      <td>WHITE CHERRY LIGHTS</td>\n",
       "      <td>12</td>\n",
       "      <td>2009-12-01 07:45:00</td>\n",
       "      <td>6.75</td>\n",
       "      <td>13085.0</td>\n",
       "      <td>United Kingdom</td>\n",
       "    </tr>\n",
       "    <tr>\n",
       "      <th>3</th>\n",
       "      <td>489434</td>\n",
       "      <td>22041</td>\n",
       "      <td>RECORD FRAME 7\" SINGLE SIZE</td>\n",
       "      <td>48</td>\n",
       "      <td>2009-12-01 07:45:00</td>\n",
       "      <td>2.10</td>\n",
       "      <td>13085.0</td>\n",
       "      <td>United Kingdom</td>\n",
       "    </tr>\n",
       "    <tr>\n",
       "      <th>4</th>\n",
       "      <td>489434</td>\n",
       "      <td>21232</td>\n",
       "      <td>STRAWBERRY CERAMIC TRINKET BOX</td>\n",
       "      <td>24</td>\n",
       "      <td>2009-12-01 07:45:00</td>\n",
       "      <td>1.25</td>\n",
       "      <td>13085.0</td>\n",
       "      <td>United Kingdom</td>\n",
       "    </tr>\n",
       "  </tbody>\n",
       "</table>\n",
       "</div>"
      ],
      "text/plain": [
       "  InvoiceNumber ProductCode                          ProductName  Quantity  \\\n",
       "0        489434       85048  15CM CHRISTMAS GLASS BALL 20 LIGHTS        12   \n",
       "1        489434      79323P                   PINK CHERRY LIGHTS        12   \n",
       "2        489434      79323W                  WHITE CHERRY LIGHTS        12   \n",
       "3        489434       22041         RECORD FRAME 7\" SINGLE SIZE         48   \n",
       "4        489434       21232       STRAWBERRY CERAMIC TRINKET BOX        24   \n",
       "\n",
       "          InvoiceDate  UnitPrice  CustomerId         Country  \n",
       "0 2009-12-01 07:45:00       6.95     13085.0  United Kingdom  \n",
       "1 2009-12-01 07:45:00       6.75     13085.0  United Kingdom  \n",
       "2 2009-12-01 07:45:00       6.75     13085.0  United Kingdom  \n",
       "3 2009-12-01 07:45:00       2.10     13085.0  United Kingdom  \n",
       "4 2009-12-01 07:45:00       1.25     13085.0  United Kingdom  "
      ]
     },
     "execution_count": 8,
     "metadata": {},
     "output_type": "execute_result"
    }
   ],
   "source": [
    "df_no_canceled_invoice = df_no_missing_price.copy()\n",
    "df_no_canceled_invoice = df_no_canceled_invoice[~df_no_canceled_invoice['InvoiceNumber'].str.startswith('C', na=False)]\n",
    "logger.info(f\"Canceled orders removed. New shape: {df_no_canceled_invoice.shape}\")\n",
    "df_no_canceled_invoice.head()"
   ]
  },
  {
   "cell_type": "markdown",
   "metadata": {},
   "source": [
    "## Step 9: Save Preprocessed Data\n",
    "\n",
    "Export the cleaned dataset to `preprocessed_sales.csv` for use in future phases."
   ]
  },
  {
   "cell_type": "code",
   "execution_count": 9,
   "metadata": {},
   "outputs": [
    {
     "name": "stderr",
     "output_type": "stream",
     "text": [
      "2025-04-10 11:59:42,944 - INFO - Preprocessed dataset saved as 'preprocessed_sales.csv'\n"
     ]
    }
   ],
   "source": [
    "df_no_canceled_invoice.to_csv('preprocessed_sales.csv', index=False)\n",
    "logger.info(\"Preprocessed dataset saved as 'preprocessed_sales.csv'\")"
   ]
  },
  {
   "cell_type": "markdown",
   "metadata": {},
   "source": [
    "## Step 10: Extract Remaining Invoices\n",
    "\n",
    "Generate a Pandas Series of unique, non-canceled invoice IDs."
   ]
  },
  {
   "cell_type": "code",
   "execution_count": 10,
   "metadata": {},
   "outputs": [
    {
     "name": "stderr",
     "output_type": "stream",
     "text": [
      "2025-04-10 11:59:47,247 - INFO - Number of unique remaining invoices: 19213\n"
     ]
    },
    {
     "data": {
      "text/plain": [
       "0        489434\n",
       "1        489435\n",
       "2        489436\n",
       "3        489437\n",
       "4        489438\n",
       "          ...  \n",
       "19208    538167\n",
       "19209    538168\n",
       "19210    538169\n",
       "19211    538170\n",
       "19212    538171\n",
       "Length: 19213, dtype: object"
      ]
     },
     "execution_count": 10,
     "metadata": {},
     "output_type": "execute_result"
    }
   ],
   "source": [
    "remaining_invoices = pd.Series(df_no_canceled_invoice['InvoiceNumber'].unique())\n",
    "logger.info(f\"Number of unique remaining invoices: {len(remaining_invoices)}\")\n",
    "remaining_invoices"
   ]
  },
  {
   "cell_type": "markdown",
   "metadata": {},
   "source": [
    "## Step 11: Prepare Submission\n",
    "\n",
    "Save intermediate outputs and compress them into `result.zip` for submission."
   ]
  },
  {
   "cell_type": "code",
   "execution_count": null,
   "metadata": {},
   "outputs": [],
   "source": [
    "import zipfile\n",
    "import joblib\n",
    "\n",
    "# Save outputs\n",
    "joblib.dump(percentage_cancelled_orders, 'percentage_cancelled_orders')\n",
    "joblib.dump(top_cancelling_customers, 'top_cancelling_customers')\n",
    "df_no_missing_CustomerId.head(1000).to_csv('df_no_missing_CustomerId.csv', index=False)\n",
    "df_no_duplicate.head(1000).to_csv('df_no_duplicate.csv', index=False)\n",
    "df_no_missing_price.head(1000).to_csv('df_no_missing_price.csv', index=False)\n",
    "df_no_canceled_invoice.head(1000).to_csv('df_no_canceled_invoice.csv', index=False)\n",
    "remaining_invoices.to_csv('remaining_invoices.csv', index=False)\n",
    "\n",
    "# Compress files\n",
    "file_names = ['df_no_canceled_invoice.csv', 'df_no_missing_CustomerId.csv',\n",
    "              'df_no_duplicate.csv', 'df_no_missing_price.csv',\n",
    "              'percentage_cancelled_orders', 'top_cancelling_customers',\n",
    "              'remaining_invoices.csv', 'final_project_1_preprocessing.ipynb']\n",
    "with zipfile.ZipFile('result.zip', 'w', compression=zipfile.ZIP_DEFLATED) as zf:\n",
    "    for file in file_names:\n",
    "        zf.write(file)\n",
    "logger.info(\"Submission files compressed into 'result.zip'\")"
   ]
  }
 ],
 "metadata": {
  "kernelspec": {
   "display_name": "Python 3",
   "language": "python",
   "name": "python3"
  },
  "language_info": {
   "codemirror_mode": {
    "name": "ipython",
    "version": 3
   },
   "file_extension": ".py",
   "mimetype": "text/x-python",
   "name": "python",
   "nbconvert_exporter": "python",
   "pygments_lexer": "ipython3",
   "version": "3.10.5"
  }
 },
 "nbformat": 4,
 "nbformat_minor": 5
}
